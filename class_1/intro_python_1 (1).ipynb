{
  "nbformat": 4,
  "nbformat_minor": 0,
  "metadata": {
    "colab": {
      "provenance": []
    },
    "kernelspec": {
      "name": "python3",
      "display_name": "Python 3"
    },
    "language_info": {
      "name": "python"
    }
  },
  "cells": [
    {
      "cell_type": "markdown",
      "source": [
        "Notebook demos for TRIADS intro python class 1, covering basic strings and variables, operators, indices and slices."
      ],
      "metadata": {
        "id": "74ZL-filbKQd"
      }
    },
    {
      "cell_type": "markdown",
      "source": [
        "## **Demo 1: Hello World**\n",
        "```\n",
        "\n"
      ],
      "metadata": {
        "id": "o0lO6SckBmZZ"
      }
    },
    {
      "cell_type": "code",
      "execution_count": null,
      "metadata": {
        "id": "4g_fV-Ma766J"
      },
      "outputs": [],
      "source": [
        "print(\"Hello, World!\")"
      ]
    },
    {
      "cell_type": "code",
      "source": [
        "name = \"Claudia\""
      ],
      "metadata": {
        "id": "GNtwROuM8Dir"
      },
      "execution_count": null,
      "outputs": []
    },
    {
      "cell_type": "code",
      "source": [
        "age = \"32\""
      ],
      "metadata": {
        "id": "5rkTRSCm8PaM"
      },
      "execution_count": null,
      "outputs": []
    },
    {
      "cell_type": "code",
      "source": [
        "print(name, \"is\", age, \"years old\")"
      ],
      "metadata": {
        "id": "ZeI_5P898SLz"
      },
      "execution_count": null,
      "outputs": []
    },
    {
      "cell_type": "code",
      "source": [
        "last_name = \"Carroll\"\n",
        "print(last_name)"
      ],
      "metadata": {
        "id": "Kim1-KI98YYD"
      },
      "execution_count": null,
      "outputs": []
    },
    {
      "cell_type": "code",
      "source": [
        "print(last name)"
      ],
      "metadata": {
        "id": "pemLMWPJ8cqa"
      },
      "execution_count": null,
      "outputs": []
    },
    {
      "cell_type": "code",
      "source": [
        "type(age)"
      ],
      "metadata": {
        "id": "SArX66dh8eIY"
      },
      "execution_count": null,
      "outputs": []
    },
    {
      "cell_type": "code",
      "source": [
        "type(name)"
      ],
      "metadata": {
        "id": "7zC9GMHI8kvP"
      },
      "execution_count": null,
      "outputs": []
    },
    {
      "cell_type": "code",
      "source": [
        "new_age = 55"
      ],
      "metadata": {
        "id": "Bw0vXCCU8lmP"
      },
      "execution_count": null,
      "outputs": []
    },
    {
      "cell_type": "code",
      "source": [
        "age = new_age"
      ],
      "metadata": {
        "id": "0OQVYiKL8o1W"
      },
      "execution_count": null,
      "outputs": []
    },
    {
      "cell_type": "code",
      "source": [
        "print(age)"
      ],
      "metadata": {
        "id": "D-kBhmMH8p2t"
      },
      "execution_count": null,
      "outputs": []
    },
    {
      "cell_type": "code",
      "source": [
        "type(age)"
      ],
      "metadata": {
        "id": "et4zvdf-cccz"
      },
      "execution_count": null,
      "outputs": []
    },
    {
      "cell_type": "code",
      "source": [
        "name = input(\"What is your name? \")\n",
        "\n",
        "print(\"Hello\", name)"
      ],
      "metadata": {
        "id": "nXi1rXJy8qkl"
      },
      "execution_count": null,
      "outputs": []
    },
    {
      "cell_type": "code",
      "source": [],
      "metadata": {
        "id": "bgGCjo1BBWff"
      },
      "execution_count": null,
      "outputs": []
    },
    {
      "cell_type": "markdown",
      "source": [
        "**Exercise 1**\n",
        "\n",
        "Write the code to ask you how many years you have been at Wash U, and what department you work in. The output should be “Congratulations on working at the X department at Wash\n",
        "U for Y years”."
      ],
      "metadata": {
        "id": "a5Al8yWGBYAS"
      }
    },
    {
      "cell_type": "code",
      "source": [
        "years = input(\"how many years have you worked at WashU? \")\n",
        "\n",
        "department = input(\"what department do you work in? \")\n",
        "\n",
        "print(\"Congratulations on working at the\", department, \"department at Wash U for\", years, \"years\")\n"
      ],
      "metadata": {
        "id": "tDBbQT5Cc0v0"
      },
      "execution_count": null,
      "outputs": []
    },
    {
      "cell_type": "markdown",
      "source": [
        "## **Demo 2: Operators, Indices and Slices**"
      ],
      "metadata": {
        "id": "EHcvy8FiBh8M"
      }
    },
    {
      "cell_type": "code",
      "source": [
        "3 + 5\n",
        "\n"
      ],
      "metadata": {
        "id": "axSOK4BL8yHN"
      },
      "execution_count": null,
      "outputs": []
    },
    {
      "cell_type": "code",
      "source": [
        "12 - 10\n",
        "\n"
      ],
      "metadata": {
        "id": "367jY2HV9gHp"
      },
      "execution_count": null,
      "outputs": []
    },
    {
      "cell_type": "code",
      "source": [
        "2 * 10\n",
        "\n"
      ],
      "metadata": {
        "id": "ghKc1Rr39kSX"
      },
      "execution_count": null,
      "outputs": []
    },
    {
      "cell_type": "code",
      "source": [
        "15 / 3\n",
        "\n"
      ],
      "metadata": {
        "id": "X4qXQAYS9nl1"
      },
      "execution_count": null,
      "outputs": []
    },
    {
      "cell_type": "code",
      "source": [
        "# Modulus (remainder):\n",
        "15 % 4\n",
        "\n"
      ],
      "metadata": {
        "id": "lXr-QkUo9qLC"
      },
      "execution_count": null,
      "outputs": []
    },
    {
      "cell_type": "code",
      "source": [
        "3 ** 2\n",
        "\n"
      ],
      "metadata": {
        "id": "JgQmTCW49twf"
      },
      "execution_count": null,
      "outputs": []
    },
    {
      "cell_type": "code",
      "source": [
        "15 // 7\n",
        "\n"
      ],
      "metadata": {
        "id": "031jj9f99w7h"
      },
      "execution_count": null,
      "outputs": []
    },
    {
      "cell_type": "code",
      "source": [
        "(3+9)*2\n",
        "\n"
      ],
      "metadata": {
        "id": "AkI7zogU9zAq"
      },
      "execution_count": null,
      "outputs": []
    },
    {
      "cell_type": "code",
      "source": [
        "# Math with variables\n",
        "\n",
        "age = 32\n",
        "\n",
        "future_age = age + 5\n",
        "\n",
        "print(future_age)"
      ],
      "metadata": {
        "id": "UC_lRusC92BE"
      },
      "execution_count": null,
      "outputs": []
    },
    {
      "cell_type": "code",
      "source": [
        "# Updating variables with operators\n",
        "\n",
        "price = 7\n",
        "\n",
        "price = price + 2\n",
        "\n",
        "print(price)"
      ],
      "metadata": {
        "id": "VyiE4D8z96Dr"
      },
      "execution_count": null,
      "outputs": []
    },
    {
      "cell_type": "code",
      "source": [
        "# Concatenating strings with operators\n",
        "\n",
        "full_name = \"James \" + \"Walsh\"\n",
        "\n",
        "print(full_name)"
      ],
      "metadata": {
        "id": "_mmqSy4v-DaE"
      },
      "execution_count": null,
      "outputs": []
    },
    {
      "cell_type": "code",
      "source": [
        "# Converting variable types\n",
        "\n",
        "num = \"2\"\n",
        "type(num)\n",
        "\n"
      ],
      "metadata": {
        "id": "9lgyeGNI-JzZ"
      },
      "execution_count": null,
      "outputs": []
    },
    {
      "cell_type": "code",
      "source": [
        "x = int(num)\n",
        "type(x)"
      ],
      "metadata": {
        "id": "-X602aOU-kbL"
      },
      "execution_count": null,
      "outputs": []
    },
    {
      "cell_type": "code",
      "source": [
        "y = str(x)\n",
        "type(y)\n"
      ],
      "metadata": {
        "id": "R2831JX6_Ggi"
      },
      "execution_count": null,
      "outputs": []
    },
    {
      "cell_type": "code",
      "source": [
        "print(y)\n",
        "type(y)"
      ],
      "metadata": {
        "id": "eL7e19nKNp0r"
      },
      "execution_count": null,
      "outputs": []
    },
    {
      "cell_type": "code",
      "source": [
        "a = 12.0\n",
        "type(a)"
      ],
      "metadata": {
        "id": "twJsnJEGOJnj"
      },
      "execution_count": null,
      "outputs": []
    },
    {
      "cell_type": "code",
      "source": [
        "a = \"12.0\"\n",
        "type(a)"
      ],
      "metadata": {
        "id": "B3WGq2QAOJyP"
      },
      "execution_count": null,
      "outputs": []
    },
    {
      "cell_type": "code",
      "source": [
        "#a = float(\"12.0\")\n",
        "g = float(a)\n",
        "print(g)"
      ],
      "metadata": {
        "id": "UxzYPA1r-pHl"
      },
      "execution_count": null,
      "outputs": []
    },
    {
      "cell_type": "code",
      "source": [
        "print(a)"
      ],
      "metadata": {
        "id": "KKBlm89NN08L"
      },
      "execution_count": null,
      "outputs": []
    },
    {
      "cell_type": "code",
      "source": [
        "print(name)"
      ],
      "metadata": {
        "id": "kqpmujZVOvrR"
      },
      "execution_count": null,
      "outputs": []
    },
    {
      "cell_type": "code",
      "source": [
        "name = \"Claudia\"\n",
        "len(name)"
      ],
      "metadata": {
        "id": "iI2FYmZy_AzS"
      },
      "execution_count": null,
      "outputs": []
    },
    {
      "cell_type": "code",
      "source": [
        "# Indices\n",
        "\n",
        "print(name[0])"
      ],
      "metadata": {
        "id": "AYU_fRec_SWl"
      },
      "execution_count": null,
      "outputs": []
    },
    {
      "cell_type": "code",
      "source": [
        "print(name[-7])"
      ],
      "metadata": {
        "id": "5e9_yByoQBdK"
      },
      "execution_count": null,
      "outputs": []
    },
    {
      "cell_type": "code",
      "source": [
        "# Slices\n",
        "\n",
        "print(name[-1:-2])\n"
      ],
      "metadata": {
        "id": "yDQfBSar_cn9"
      },
      "execution_count": null,
      "outputs": []
    },
    {
      "cell_type": "code",
      "source": [
        "# Lists\n",
        "\n",
        "departments = [\"music\", \"philosophy\", \"chemistry\"]\n",
        "\n"
      ],
      "metadata": {
        "id": "kpKnI0zN_gvZ"
      },
      "execution_count": null,
      "outputs": []
    },
    {
      "cell_type": "code",
      "source": [
        "len(departments)\n",
        "\n"
      ],
      "metadata": {
        "id": "OoAe6HMk_soK"
      },
      "execution_count": null,
      "outputs": []
    },
    {
      "cell_type": "code",
      "source": [
        "print(departments[1])\n",
        "\n"
      ],
      "metadata": {
        "id": "ERuy3mrf_1WE"
      },
      "execution_count": null,
      "outputs": []
    },
    {
      "cell_type": "code",
      "source": [
        "departments_2 = departments + [\"computer science\"]\n",
        "\n",
        "print(departments_2)"
      ],
      "metadata": {
        "id": "a1QleG9y_173"
      },
      "execution_count": null,
      "outputs": []
    },
    {
      "cell_type": "markdown",
      "source": [
        "**Exercise 2**\n",
        "\n",
        "Create the following list to track your groceries and prices:\n",
        "\n",
        "Groceries = [“apples”, “4”, “milk”, “5.9”, “bread”, “3”, “wine”, “15.5”]\n",
        "\n",
        "\n",
        "\n",
        "\n",
        "1.   Use indices to list out only the food items\n",
        "2.   Use mathematical operators to list the number of food items\n",
        "3. Write the code to extract the prices from the list, calculate the total, then output the following statement: \"The total cost of the groceries is $X\"\n",
        "\n",
        "\n",
        "\n",
        "**Hint: Watch your parentheses!**"
      ],
      "metadata": {
        "id": "RlJb36__BeLT"
      }
    },
    {
      "cell_type": "code",
      "source": [
        "groceries = [\"apples\", \"4\", \"milk\", \"5.9\", \"bread\", \"3\", \"wine\", \"15.5\"]"
      ],
      "metadata": {
        "id": "uPBBVqoN_8Gc"
      },
      "execution_count": null,
      "outputs": []
    },
    {
      "cell_type": "code",
      "source": [
        "print(groceries[0], groceries[2], groceries[4], groceries[6])"
      ],
      "metadata": {
        "id": "AjmtzGGDdhFv"
      },
      "execution_count": null,
      "outputs": []
    },
    {
      "cell_type": "code",
      "source": [
        "len(groceries)/2"
      ],
      "metadata": {
        "id": "o2ujeIGvdg_u"
      },
      "execution_count": null,
      "outputs": []
    },
    {
      "cell_type": "code",
      "source": [
        "print(\"The total cost of the groceries is $\",\n",
        "      int(groceries[1]) +\n",
        "      float(groceries[3]) +\n",
        "      int( groceries[5]) +\n",
        "      float(groceries[7]))"
      ],
      "metadata": {
        "id": "YwhaVIlddg4s"
      },
      "execution_count": null,
      "outputs": []
    },
    {
      "cell_type": "code",
      "source": [],
      "metadata": {
        "id": "x5nmqJaNdu5M"
      },
      "execution_count": null,
      "outputs": []
    }
  ]
}