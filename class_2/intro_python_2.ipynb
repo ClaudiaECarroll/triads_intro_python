{
  "nbformat": 4,
  "nbformat_minor": 0,
  "metadata": {
    "colab": {
      "provenance": []
    },
    "kernelspec": {
      "name": "python3",
      "display_name": "Python 3"
    },
    "language_info": {
      "name": "python"
    }
  },
  "cells": [
    {
      "cell_type": "markdown",
      "source": [
        "Notebook demos for TRIADS intro python class 2, covering booleans, conditionals, and for loops"
      ],
      "metadata": {
        "id": "KBLiY75na-Eg"
      }
    },
    {
      "cell_type": "markdown",
      "source": [
        "# **Part 1: Booleans and Conditionals**"
      ],
      "metadata": {
        "id": "TdOibsFlYtov"
      }
    },
    {
      "cell_type": "markdown",
      "source": [
        "Boolean Statements"
      ],
      "metadata": {
        "id": "XFueQLNegaTO"
      }
    },
    {
      "cell_type": "code",
      "execution_count": null,
      "metadata": {
        "id": "CX_N165rfecR"
      },
      "outputs": [],
      "source": [
        "4 == 4"
      ]
    },
    {
      "cell_type": "code",
      "source": [
        "4 != 4"
      ],
      "metadata": {
        "id": "hjkkA5AagnEm"
      },
      "execution_count": null,
      "outputs": []
    },
    {
      "cell_type": "code",
      "source": [
        "4 == 3"
      ],
      "metadata": {
        "id": "_n44c0XkgpP-"
      },
      "execution_count": null,
      "outputs": []
    },
    {
      "cell_type": "code",
      "source": [
        "4 > 3"
      ],
      "metadata": {
        "id": "H6oEzuXIgqp9"
      },
      "execution_count": null,
      "outputs": []
    },
    {
      "cell_type": "code",
      "source": [
        "4 >= 3"
      ],
      "metadata": {
        "id": "o1KHy_Uegt7L"
      },
      "execution_count": null,
      "outputs": []
    },
    {
      "cell_type": "code",
      "source": [
        "\"cake\" == \"cake\""
      ],
      "metadata": {
        "id": "6u49NGmqgyYX"
      },
      "execution_count": null,
      "outputs": []
    },
    {
      "cell_type": "markdown",
      "source": [
        "Conditionals"
      ],
      "metadata": {
        "id": "7L5-mygphDAd"
      }
    },
    {
      "cell_type": "code",
      "source": [
        "mass = 4\n",
        "\n",
        "if mass > 3.0:\n",
        "  print(mass, 'is large')"
      ],
      "metadata": {
        "id": "a0brnWV3g12T"
      },
      "execution_count": null,
      "outputs": []
    },
    {
      "cell_type": "code",
      "source": [
        "m = 5\n",
        "\n",
        "if m > 3.0:\n",
        "    print(m, 'is large')\n",
        "else:\n",
        "    print(m, 'is small')"
      ],
      "metadata": {
        "id": "FMalA2h0g82l"
      },
      "execution_count": null,
      "outputs": []
    },
    {
      "cell_type": "code",
      "source": [
        "a = -2\n",
        "\n",
        "if a > 9.0:\n",
        "    print(a, 'is HUGE')\n",
        "elif a > 3.0:\n",
        "    print(a, 'is large')\n",
        "else:\n",
        "    print(a, 'is small')"
      ],
      "metadata": {
        "id": "25nINp7_hTRY"
      },
      "execution_count": null,
      "outputs": []
    },
    {
      "cell_type": "code",
      "source": [
        "# Using conditional to update a variable\n",
        "\n",
        "velocity = 25\n",
        "\n",
        "if velocity > 20.0:\n",
        "    print('moving too fast')\n",
        "else:\n",
        "    print('adjusting velocity')\n",
        "    velocity = 50.0"
      ],
      "metadata": {
        "id": "0RWxDFndhqVa"
      },
      "execution_count": null,
      "outputs": []
    },
    {
      "cell_type": "code",
      "source": [
        "print(velocity)"
      ],
      "metadata": {
        "id": "vIMjII1Qh-u4"
      },
      "execution_count": null,
      "outputs": []
    },
    {
      "cell_type": "code",
      "source": [
        "# What will this print?\n",
        "\n",
        "pressure = 30\n",
        "\n",
        "if pressure > 50.0:\n",
        "    pressure = 25.0\n",
        "elif pressure <= 50.0:\n",
        "    pressure = 0.0\n",
        "\n",
        "    print(pressure)"
      ],
      "metadata": {
        "id": "jvcWpmm2iAu0"
      },
      "execution_count": null,
      "outputs": []
    },
    {
      "cell_type": "code",
      "source": [
        "# Membership operators\n",
        "\n",
        "numbers = [2,5,8,10]\n",
        "\n",
        "if 4 in numbers:\n",
        "  print(\"4 is in the list\")\n",
        "else:\n",
        "  print(\"4 is not in the list\")\n",
        "\n"
      ],
      "metadata": {
        "colab": {
          "base_uri": "https://localhost:8080/"
        },
        "id": "hZL2Z_X93rfk",
        "outputId": "614b1b38-a958-4ca1-9d56-7455fda79348"
      },
      "execution_count": 1,
      "outputs": [
        {
          "output_type": "stream",
          "name": "stdout",
          "text": [
            "4 is not in the list\n",
            "4 is not in the list\n"
          ]
        }
      ]
    },
    {
      "cell_type": "code",
      "source": [
        "#Alternatively:\n",
        "\n",
        "if 4 not in numbers:\n",
        "  print(\"4 is not in the list\")\n",
        "else:\n",
        "  print(\"4 is in the list\")"
      ],
      "metadata": {
        "id": "yRPuvVhI4IgH"
      },
      "execution_count": null,
      "outputs": []
    },
    {
      "cell_type": "code",
      "source": [
        "#Combination operators (OR)\n",
        "\n",
        "if 4 in numbers or 5 in numbers:\n",
        "  print(\"4 or 5 is in the list\")"
      ],
      "metadata": {
        "colab": {
          "base_uri": "https://localhost:8080/"
        },
        "id": "zRZdQNYg4Kf6",
        "outputId": "61d596eb-7bf1-4918-d18d-a9954a5ff42d"
      },
      "execution_count": 6,
      "outputs": [
        {
          "output_type": "stream",
          "name": "stdout",
          "text": [
            "4 or 5 is in the list\n"
          ]
        }
      ]
    },
    {
      "cell_type": "code",
      "source": [
        "# Combination operators (AND)\n",
        "\n",
        "if 4 in numbers and 5 in numbers:\n",
        "  print(\"4 and 5 is in the list\")"
      ],
      "metadata": {
        "id": "hAq1Ix1K4UuJ"
      },
      "execution_count": 5,
      "outputs": []
    },
    {
      "cell_type": "markdown",
      "source": [
        "**Exercise 1**\n",
        "\n",
        "Create three lists:\n",
        "\n",
        "humanities = [\"English\", \"History\", \"French\", \"Art History\", \"Philosophy\"]\n",
        "\n",
        "sciences = [\"Biology\", \"Chemistry\", \"Neuroscience\", \"Physics\", \"Ecology\"]\n",
        "\n",
        "social_sciences = [\"Political Science\", \"Sociology\", \"Anthropology\", \"Psychology\"]\n",
        "\n",
        "1. Using conditionals, write the code that prints “You are a philosopher” if the fifth element of humanities is philosophy (hint: remember indices from Monday!)\n",
        "\n",
        "2. Now write a program that asks what department you are in, and based on the response, outputs one of the following messages (hint: remember the input() function from Monday!):\n",
        "\n",
        "You are a humanist!\n",
        "You are a scientist!\n",
        "You are a social scientist!\n",
        "You are probably doing something interesting!"
      ],
      "metadata": {
        "id": "pD8za7o7ivEJ"
      }
    },
    {
      "cell_type": "code",
      "source": [
        "humanities = [\"English\", \"History\", \"French\", \"Art History\", \"Philosophy\"]\n",
        "\n",
        "sciences = [\"Biology\", \"Chemistry\", \"Neuroscience\", \"Physics\", \"Ecology\"]\n",
        "\n",
        "social_sciences = [\"Political Science\", \"Sociology\", \"Anthropology\", \"Psychology\"]\n",
        "\n",
        "if humanities[4] == \"Philosophy\":\n",
        "  print(\"You are a philosopher\")"
      ],
      "metadata": {
        "id": "YsCo03fHZgUO"
      },
      "execution_count": null,
      "outputs": []
    },
    {
      "cell_type": "code",
      "source": [
        "your_department = input(\"What department do you work in? \")\n",
        "\n",
        "if your_department in humanities:\n",
        "    print(\"You are a humanist\")\n",
        "elif your_department in sciences:\n",
        "    print(\"You are a scientist\")\n",
        "elif your_department in social_sciences:\n",
        "    print(\"You are a social scientist\")\n",
        "else:\n",
        "    print(\"You are probably doing something interesting!\")"
      ],
      "metadata": {
        "id": "opY3iNOVaV6R"
      },
      "execution_count": null,
      "outputs": []
    },
    {
      "cell_type": "markdown",
      "source": [
        "Overview of For Loops (slides)"
      ],
      "metadata": {
        "id": "ykdcYnbljIHm"
      }
    },
    {
      "cell_type": "markdown",
      "source": [
        "# **Part 2: For loops**"
      ],
      "metadata": {
        "id": "FmQ4m06Iizf1"
      }
    },
    {
      "cell_type": "code",
      "source": [
        "for number in [2, 3, 5]:\n",
        "    print(number)"
      ],
      "metadata": {
        "id": "IRuRAsQoiVVD"
      },
      "execution_count": null,
      "outputs": []
    },
    {
      "cell_type": "code",
      "source": [
        "store_shelf = [\"apples\", \"bread\", \"cookies\",\n",
        "               \"avocados\", \"eggs\", \"milk\", \"carrots\"]\n",
        "\n",
        "for item in store_shelf:\n",
        "    print(item)"
      ],
      "metadata": {
        "id": "E-FQ9syijTCV"
      },
      "execution_count": null,
      "outputs": []
    },
    {
      "cell_type": "code",
      "source": [
        "for x in \"Washington\":\n",
        "  print(x)"
      ],
      "metadata": {
        "id": "YZ6eOgCzi4xR"
      },
      "execution_count": null,
      "outputs": []
    },
    {
      "cell_type": "code",
      "source": [
        "# The loop variable can be anything\n",
        "\n",
        "for kitten in [2, 3, 5]:\n",
        "    print(kitten)"
      ],
      "metadata": {
        "id": "Z9E9UL6CjjOF"
      },
      "execution_count": null,
      "outputs": []
    },
    {
      "cell_type": "code",
      "source": [
        "# We can create local variables within the for loop\n",
        "\n",
        "primes = [2, 3, 5]\n",
        "\n",
        "for p in primes:\n",
        "    squared = p ** 2\n",
        "    cubed = p ** 3\n",
        "    x = [p, squared, cubed]\n",
        "    print(x[-1])"
      ],
      "metadata": {
        "id": "3tsDWpqhjwiC"
      },
      "execution_count": null,
      "outputs": []
    },
    {
      "cell_type": "code",
      "source": [
        "# To loop a specific number of times, use the range() function\n",
        "\n",
        "for number in range(0, 3):\n",
        "    print(number)"
      ],
      "metadata": {
        "id": "JVJ03R02j4GR"
      },
      "execution_count": null,
      "outputs": []
    },
    {
      "cell_type": "code",
      "source": [
        "# Accumulating data across loops\n",
        "# Note: We can update a variable inside a for loop, as long as the variable has been created before the for loop initiates\n",
        "\n",
        "length = 0\n",
        "\n",
        "names = ['Curie', 'Darwin', 'Turing']\n",
        "\n",
        "for value in names:\n",
        "    length = length + 1\n",
        "\n",
        "print('There are', length, 'names in the list.')"
      ],
      "metadata": {
        "id": "boUg1noAlC1T"
      },
      "execution_count": null,
      "outputs": []
    },
    {
      "cell_type": "code",
      "source": [
        "#Indentation matters!\n",
        "\n",
        "total = 0\n",
        "\n",
        "for char in \"tin\":\n",
        "  total = total + 1\n",
        "  print(total)"
      ],
      "metadata": {
        "id": "_TqCepanketj"
      },
      "execution_count": null,
      "outputs": []
    },
    {
      "cell_type": "markdown",
      "source": [
        "**Exercise 2**\n",
        "\n",
        "Using your store_shelf list:\n",
        "\n",
        "1. Write a for loop to print all the items in the list starting with the letter “a”\n",
        "\n",
        "2. Write a for loop to print all the items in your list that are longer than 5 letters"
      ],
      "metadata": {
        "id": "CTOFigYbAsoz"
      }
    },
    {
      "cell_type": "code",
      "source": [],
      "metadata": {
        "id": "ucMvMZGGah0a"
      },
      "execution_count": null,
      "outputs": []
    },
    {
      "cell_type": "code",
      "source": [
        "store_shelf = [\"apples\", \"bread\", \"cookies\", \"avocados\",\n",
        "               \"eggs\", \"milk\", \"carrots\"]\n",
        "\n",
        "for x in store_shelf:\n",
        "  if x[0] == \"a\":\n",
        "      print(x)\n"
      ],
      "metadata": {
        "id": "ze32P0qzkj6G"
      },
      "execution_count": null,
      "outputs": []
    },
    {
      "cell_type": "code",
      "source": [
        "for x in store_shelf:\n",
        "  if len(x) > 5:\n",
        "    print(x)"
      ],
      "metadata": {
        "id": "ctummSxGA6nD"
      },
      "execution_count": null,
      "outputs": []
    },
    {
      "cell_type": "markdown",
      "source": [
        "**Exercise 3**\n",
        "\n",
        "Using your department lists from earlier in the lesson:\n",
        "\n",
        "humanities = [\"English\", \"History\", \"French\", \"Art History\", \"Philosophy\"]\n",
        "\n",
        "sciences = [\"Biology\", \"Chemistry\", \"Neuroscience\", \"Physics\", \"Ecology\"]\n",
        "\n",
        "1. Write a for loop that finds the words in the humanities list that have the same number of letters as a word in the science list, printing the two words and the statement “These words have the same number of letters!” when there is a match for the number of letters.\n"
      ],
      "metadata": {
        "id": "RATqfXTLBBHs"
      }
    },
    {
      "cell_type": "code",
      "source": [
        "humanities = [\"English\", \"History\", \"French\", \"Art History\",\n",
        "              \"Philosophy\"]\n",
        "\n",
        "sciences = [\"Biology\", \"Chemistry\", \"Neuroscience\",\n",
        "            \"Physics\", \"Ecology\"]\n",
        "\n",
        "for x in humanities:\n",
        "  for y in sciences:\n",
        "    if len(x) == len(y):\n",
        "      print(x, y, \": These words have the same number of letters!\")"
      ],
      "metadata": {
        "id": "vZx2h1yxBLvz"
      },
      "execution_count": null,
      "outputs": []
    }
  ]
}