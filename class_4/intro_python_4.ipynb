{
  "cells": [
    {
      "cell_type": "markdown",
      "source": [
        "Demo notebook for class 4 of TRIADS intro python, covering functions"
      ],
      "metadata": {
        "id": "chJtbK_mft74"
      },
      "id": "chJtbK_mft74"
    },
    {
      "cell_type": "markdown",
      "source": [
        "# Functions"
      ],
      "metadata": {
        "id": "0S4kEjnA2hY8"
      },
      "id": "0S4kEjnA2hY8"
    },
    {
      "cell_type": "code",
      "execution_count": null,
      "id": "67e06acf",
      "metadata": {
        "id": "67e06acf"
      },
      "outputs": [],
      "source": [
        "# creating a function\n",
        "\n",
        "def disciplines():\n",
        "    print(\"English\")\n",
        "    print(\"History\")\n",
        "    print(\"Business\")\n",
        "    print(\"Biology\")"
      ]
    },
    {
      "cell_type": "code",
      "execution_count": null,
      "id": "e5bbe6c5",
      "metadata": {
        "id": "e5bbe6c5",
        "colab": {
          "base_uri": "https://localhost:8080/"
        },
        "outputId": "de3c0a82-7418-42b2-95f8-1cf9dfda202e"
      },
      "outputs": [
        {
          "output_type": "stream",
          "name": "stdout",
          "text": [
            "English\n",
            "History\n",
            "Business\n",
            "Biology\n"
          ]
        }
      ],
      "source": [
        "disciplines()"
      ]
    },
    {
      "cell_type": "code",
      "source": [
        "food = [\"bread\", \"milk\", \"eggs\"]"
      ],
      "metadata": {
        "id": "Wofvx4cp2ntt"
      },
      "id": "Wofvx4cp2ntt",
      "execution_count": 5,
      "outputs": []
    },
    {
      "cell_type": "code",
      "source": [
        "#Parameters and arguments\n",
        "#Print (print output) vs. return (save output to function)\n",
        "\n",
        "def groceries(x):\n",
        "    print(x)"
      ],
      "metadata": {
        "id": "V0WkKkGb2rTw"
      },
      "id": "V0WkKkGb2rTw",
      "execution_count": 11,
      "outputs": []
    },
    {
      "cell_type": "code",
      "source": [
        "# Return statement--stops the function and can be used to save output\n",
        "\n",
        "def groceries2(x):\n",
        "    return(x)"
      ],
      "metadata": {
        "id": "7-y0jmXz2usZ"
      },
      "id": "7-y0jmXz2usZ",
      "execution_count": 6,
      "outputs": []
    },
    {
      "cell_type": "code",
      "source": [
        "y = groceries2(food)\n",
        "print(y)"
      ],
      "metadata": {
        "id": "HKILwawL3k4y",
        "colab": {
          "base_uri": "https://localhost:8080/"
        },
        "outputId": "cf26dc45-d7f3-4c47-cb56-342b7687a08b"
      },
      "id": "HKILwawL3k4y",
      "execution_count": 7,
      "outputs": [
        {
          "output_type": "stream",
          "name": "stdout",
          "text": [
            "['bread', 'milk', 'eggs']\n"
          ]
        }
      ]
    },
    {
      "cell_type": "code",
      "source": [
        "#What happens if we don't use return, and try to save the output if a function to a variable?\n",
        "\n",
        "z = groceries(food)\n",
        "print(z)"
      ],
      "metadata": {
        "id": "WDX9rRZh3vYi",
        "colab": {
          "base_uri": "https://localhost:8080/",
          "height": 193
        },
        "outputId": "389a22cf-faf8-45cf-c123-cf7cbcdf09b3"
      },
      "id": "WDX9rRZh3vYi",
      "execution_count": 8,
      "outputs": [
        {
          "output_type": "error",
          "ename": "NameError",
          "evalue": "name 'groceries' is not defined",
          "traceback": [
            "\u001b[0;31m---------------------------------------------------------------------------\u001b[0m",
            "\u001b[0;31mNameError\u001b[0m                                 Traceback (most recent call last)",
            "\u001b[0;32m/tmp/ipython-input-3485055855.py\u001b[0m in \u001b[0;36m<cell line: 0>\u001b[0;34m()\u001b[0m\n\u001b[1;32m      1\u001b[0m \u001b[0;31m#What happens if we don't use return, and try to save the output if a function to a variable?\u001b[0m\u001b[0;34m\u001b[0m\u001b[0;34m\u001b[0m\u001b[0m\n\u001b[1;32m      2\u001b[0m \u001b[0;34m\u001b[0m\u001b[0m\n\u001b[0;32m----> 3\u001b[0;31m \u001b[0mz\u001b[0m \u001b[0;34m=\u001b[0m \u001b[0mgroceries\u001b[0m\u001b[0;34m(\u001b[0m\u001b[0mfood\u001b[0m\u001b[0;34m)\u001b[0m\u001b[0;34m\u001b[0m\u001b[0;34m\u001b[0m\u001b[0m\n\u001b[0m\u001b[1;32m      4\u001b[0m \u001b[0mprint\u001b[0m\u001b[0;34m(\u001b[0m\u001b[0mz\u001b[0m\u001b[0;34m)\u001b[0m\u001b[0;34m\u001b[0m\u001b[0;34m\u001b[0m\u001b[0m\n",
            "\u001b[0;31mNameError\u001b[0m: name 'groceries' is not defined"
          ]
        }
      ]
    },
    {
      "cell_type": "code",
      "source": [
        "y = groceries2(food)\n",
        "print(y)"
      ],
      "metadata": {
        "id": "6Uakmxseat6k",
        "colab": {
          "base_uri": "https://localhost:8080/"
        },
        "outputId": "e165cad0-654f-4306-ca64-4d4013ff1c1b"
      },
      "id": "6Uakmxseat6k",
      "execution_count": 9,
      "outputs": [
        {
          "output_type": "stream",
          "name": "stdout",
          "text": [
            "['bread', 'milk', 'eggs']\n"
          ]
        }
      ]
    },
    {
      "cell_type": "code",
      "source": [
        "len(groceries(food))"
      ],
      "metadata": {
        "id": "m12vb88d3nM-",
        "colab": {
          "base_uri": "https://localhost:8080/",
          "height": 159
        },
        "outputId": "dc760af2-4678-4c1e-ccff-787c88b4df7f"
      },
      "id": "m12vb88d3nM-",
      "execution_count": 12,
      "outputs": [
        {
          "output_type": "stream",
          "name": "stdout",
          "text": [
            "['bread', 'milk', 'eggs']\n"
          ]
        },
        {
          "output_type": "error",
          "ename": "TypeError",
          "evalue": "object of type 'NoneType' has no len()",
          "traceback": [
            "\u001b[0;31m---------------------------------------------------------------------------\u001b[0m",
            "\u001b[0;31mTypeError\u001b[0m                                 Traceback (most recent call last)",
            "\u001b[0;32m/tmp/ipython-input-3465502816.py\u001b[0m in \u001b[0;36m<cell line: 0>\u001b[0;34m()\u001b[0m\n\u001b[0;32m----> 1\u001b[0;31m \u001b[0mlen\u001b[0m\u001b[0;34m(\u001b[0m\u001b[0mgroceries\u001b[0m\u001b[0;34m(\u001b[0m\u001b[0mfood\u001b[0m\u001b[0;34m)\u001b[0m\u001b[0;34m)\u001b[0m\u001b[0;34m\u001b[0m\u001b[0;34m\u001b[0m\u001b[0m\n\u001b[0m",
            "\u001b[0;31mTypeError\u001b[0m: object of type 'NoneType' has no len()"
          ]
        }
      ]
    },
    {
      "cell_type": "code",
      "source": [
        "#Function with numbers\n",
        "\n",
        "def squares(x):\n",
        "    print(x*x)\n",
        "    return"
      ],
      "metadata": {
        "id": "hFgP7UKy39Lw"
      },
      "id": "hFgP7UKy39Lw",
      "execution_count": 13,
      "outputs": []
    },
    {
      "cell_type": "code",
      "source": [
        "numbers_2 = [15, 17, 19, 20]\n",
        "\n",
        "for num in numbers_2:\n",
        "    squares(num)"
      ],
      "metadata": {
        "id": "-Q-NbgVH4TF6",
        "colab": {
          "base_uri": "https://localhost:8080/"
        },
        "outputId": "cbe984a3-4f85-45ac-b0ed-dce9882aea79"
      },
      "id": "-Q-NbgVH4TF6",
      "execution_count": 14,
      "outputs": [
        {
          "output_type": "stream",
          "name": "stdout",
          "text": [
            "225\n",
            "289\n",
            "361\n",
            "400\n"
          ]
        }
      ]
    },
    {
      "cell_type": "code",
      "source": [
        "def square_list(y):\n",
        "    for x in y:\n",
        "        #print(x*x)\n",
        "        return(x*x)"
      ],
      "metadata": {
        "id": "pjr97CKw4Vfs"
      },
      "id": "pjr97CKw4Vfs",
      "execution_count": 15,
      "outputs": []
    },
    {
      "cell_type": "code",
      "source": [
        "var = square_list(numbers_2)\n",
        "print(var)"
      ],
      "metadata": {
        "id": "OS7wArUE4bDg",
        "colab": {
          "base_uri": "https://localhost:8080/"
        },
        "outputId": "81919ec9-c45b-40a2-b6e7-a13c28ede7a8"
      },
      "id": "OS7wArUE4bDg",
      "execution_count": 16,
      "outputs": [
        {
          "output_type": "stream",
          "name": "stdout",
          "text": [
            "225\n"
          ]
        }
      ]
    },
    {
      "cell_type": "code",
      "source": [
        "# To save multiple data from a function, use a variable inside the function to store the output data\n",
        "\n",
        "def square_list(y):\n",
        "    squares = []\n",
        "    for x in y:\n",
        "        squares.append(x*x)\n",
        "    return(squares)\n",
        "\n",
        "square_list(numbers_2)"
      ],
      "metadata": {
        "colab": {
          "base_uri": "https://localhost:8080/"
        },
        "id": "bIddFYU85gHZ",
        "outputId": "4e3ab17e-e281-4075-899d-698984ceb3ce"
      },
      "id": "bIddFYU85gHZ",
      "execution_count": 19,
      "outputs": [
        {
          "output_type": "execute_result",
          "data": {
            "text/plain": [
              "[225, 289, 361, 400]"
            ]
          },
          "metadata": {},
          "execution_count": 19
        }
      ]
    },
    {
      "cell_type": "code",
      "source": [
        "#using multiple parameters\n",
        "\n",
        "def introduction(name, department):\n",
        "    print(\"My name is \" + name +\n",
        "           \" and I work in the \" + department + \" department\")\n"
      ],
      "metadata": {
        "id": "qiM5gihk4e4H"
      },
      "id": "qiM5gihk4e4H",
      "execution_count": null,
      "outputs": []
    },
    {
      "cell_type": "code",
      "source": [
        "j = introduction(name=\"Claudia\", department=\"Data Science\")\n",
        "print(j)"
      ],
      "metadata": {
        "id": "cNkS97w9437s",
        "colab": {
          "base_uri": "https://localhost:8080/"
        },
        "outputId": "201bd959-628c-425b-8005-08783d430239"
      },
      "id": "cNkS97w9437s",
      "execution_count": null,
      "outputs": [
        {
          "output_type": "stream",
          "name": "stdout",
          "text": [
            "My name is Claudia and I work in the Data Science department\n",
            "None\n"
          ]
        }
      ]
    },
    {
      "cell_type": "markdown",
      "source": [
        "**Exercise 1**\n",
        "\n",
        "Given a list foods = [“eggs”, “bread”, “milk”, “cookies”]\n",
        "\n",
        "Create a function to return all words in the list that are longer than 5 letters."
      ],
      "metadata": {
        "id": "FnXlLAtp75Dg"
      },
      "id": "FnXlLAtp75Dg"
    },
    {
      "cell_type": "code",
      "source": [
        "foods = [\"eggs\", \"bread\", \"milk\", \"cookies\"]\n",
        "\n",
        "def long_strings(x):\n",
        "    for food in x:\n",
        "        if len(food) >= 5:\n",
        "            print(food)\n",
        "    return\n",
        "\n",
        "long_strings(foods)"
      ],
      "metadata": {
        "id": "SSlD1Ujg7wT2",
        "colab": {
          "base_uri": "https://localhost:8080/"
        },
        "outputId": "90e2f68b-818d-4974-b9f7-6de0d61c434b"
      },
      "execution_count": null,
      "outputs": [
        {
          "output_type": "stream",
          "name": "stdout",
          "text": [
            "bread\n",
            "cookies\n"
          ]
        }
      ],
      "id": "SSlD1Ujg7wT2"
    },
    {
      "cell_type": "markdown",
      "source": [
        "#Functions with file data"
      ],
      "metadata": {
        "id": "PNTiGB6o7W4l"
      },
      "id": "PNTiGB6o7W4l"
    },
    {
      "cell_type": "code",
      "source": [
        "import pandas as pd\n",
        "\n",
        "df = pd.read_csv(\"gdp_africa.csv\", index_col=0)"
      ],
      "metadata": {
        "id": "Vf1OCVIQgCfK"
      },
      "id": "Vf1OCVIQgCfK",
      "execution_count": null,
      "outputs": []
    },
    {
      "cell_type": "code",
      "source": [
        "#Basic function with a dataframe\n",
        "\n",
        "\n",
        "def column_min(column):\n",
        "    return(df[column].min())"
      ],
      "metadata": {
        "id": "wj38HK6Y466e"
      },
      "id": "wj38HK6Y466e",
      "execution_count": null,
      "outputs": []
    },
    {
      "cell_type": "code",
      "source": [
        "df.head()"
      ],
      "metadata": {
        "colab": {
          "base_uri": "https://localhost:8080/",
          "height": 275
        },
        "id": "YipikyCpgJxS",
        "outputId": "e26b04a5-9929-4eaa-e3a3-d5f344eab79f"
      },
      "id": "YipikyCpgJxS",
      "execution_count": null,
      "outputs": [
        {
          "output_type": "execute_result",
          "data": {
            "text/plain": [
              "                     1952         1957         1962         1967         1972  \\\n",
              "country                                                                         \n",
              "Algeria       2449.008185  3013.976023  2550.816880  3246.991771  4182.663766   \n",
              "Angola        3520.610273  3827.940465  4269.276742  5522.776375  5473.288005   \n",
              "Benin         1062.752200   959.601080   949.499064  1035.831411  1085.796879   \n",
              "Botswana       851.241141   918.232535   983.653976  1214.709294  2263.611114   \n",
              "Burkina Faso   543.255241   617.183465   722.512021   794.826560   854.735976   \n",
              "\n",
              "                     1977         1982         1987         1992         1997  \\\n",
              "country                                                                         \n",
              "Algeria       4910.416756  5745.160213  5681.358539  5023.216647  4797.295051   \n",
              "Angola        3008.647355  2756.953672  2430.208311  2627.845685  2277.140884   \n",
              "Benin         1029.161251  1277.897616  1225.856010  1191.207681  1232.975292   \n",
              "Botswana      3214.857818  4551.142150  6205.883850  7954.111645  8647.142313   \n",
              "Burkina Faso   743.387037   807.198586   912.063142   931.752773   946.294962   \n",
              "\n",
              "                      2002          2007  \n",
              "country                                   \n",
              "Algeria        5288.040382   6223.367465  \n",
              "Angola         2773.287312   4797.231267  \n",
              "Benin          1372.877931   1441.284873  \n",
              "Botswana      11003.605080  12569.851770  \n",
              "Burkina Faso   1037.645221   1217.032994  "
            ],
            "text/html": [
              "\n",
              "  <div id=\"df-65eb938f-bafe-45d9-836d-92666106cc60\" class=\"colab-df-container\">\n",
              "    <div>\n",
              "<style scoped>\n",
              "    .dataframe tbody tr th:only-of-type {\n",
              "        vertical-align: middle;\n",
              "    }\n",
              "\n",
              "    .dataframe tbody tr th {\n",
              "        vertical-align: top;\n",
              "    }\n",
              "\n",
              "    .dataframe thead th {\n",
              "        text-align: right;\n",
              "    }\n",
              "</style>\n",
              "<table border=\"1\" class=\"dataframe\">\n",
              "  <thead>\n",
              "    <tr style=\"text-align: right;\">\n",
              "      <th></th>\n",
              "      <th>1952</th>\n",
              "      <th>1957</th>\n",
              "      <th>1962</th>\n",
              "      <th>1967</th>\n",
              "      <th>1972</th>\n",
              "      <th>1977</th>\n",
              "      <th>1982</th>\n",
              "      <th>1987</th>\n",
              "      <th>1992</th>\n",
              "      <th>1997</th>\n",
              "      <th>2002</th>\n",
              "      <th>2007</th>\n",
              "    </tr>\n",
              "    <tr>\n",
              "      <th>country</th>\n",
              "      <th></th>\n",
              "      <th></th>\n",
              "      <th></th>\n",
              "      <th></th>\n",
              "      <th></th>\n",
              "      <th></th>\n",
              "      <th></th>\n",
              "      <th></th>\n",
              "      <th></th>\n",
              "      <th></th>\n",
              "      <th></th>\n",
              "      <th></th>\n",
              "    </tr>\n",
              "  </thead>\n",
              "  <tbody>\n",
              "    <tr>\n",
              "      <th>Algeria</th>\n",
              "      <td>2449.008185</td>\n",
              "      <td>3013.976023</td>\n",
              "      <td>2550.816880</td>\n",
              "      <td>3246.991771</td>\n",
              "      <td>4182.663766</td>\n",
              "      <td>4910.416756</td>\n",
              "      <td>5745.160213</td>\n",
              "      <td>5681.358539</td>\n",
              "      <td>5023.216647</td>\n",
              "      <td>4797.295051</td>\n",
              "      <td>5288.040382</td>\n",
              "      <td>6223.367465</td>\n",
              "    </tr>\n",
              "    <tr>\n",
              "      <th>Angola</th>\n",
              "      <td>3520.610273</td>\n",
              "      <td>3827.940465</td>\n",
              "      <td>4269.276742</td>\n",
              "      <td>5522.776375</td>\n",
              "      <td>5473.288005</td>\n",
              "      <td>3008.647355</td>\n",
              "      <td>2756.953672</td>\n",
              "      <td>2430.208311</td>\n",
              "      <td>2627.845685</td>\n",
              "      <td>2277.140884</td>\n",
              "      <td>2773.287312</td>\n",
              "      <td>4797.231267</td>\n",
              "    </tr>\n",
              "    <tr>\n",
              "      <th>Benin</th>\n",
              "      <td>1062.752200</td>\n",
              "      <td>959.601080</td>\n",
              "      <td>949.499064</td>\n",
              "      <td>1035.831411</td>\n",
              "      <td>1085.796879</td>\n",
              "      <td>1029.161251</td>\n",
              "      <td>1277.897616</td>\n",
              "      <td>1225.856010</td>\n",
              "      <td>1191.207681</td>\n",
              "      <td>1232.975292</td>\n",
              "      <td>1372.877931</td>\n",
              "      <td>1441.284873</td>\n",
              "    </tr>\n",
              "    <tr>\n",
              "      <th>Botswana</th>\n",
              "      <td>851.241141</td>\n",
              "      <td>918.232535</td>\n",
              "      <td>983.653976</td>\n",
              "      <td>1214.709294</td>\n",
              "      <td>2263.611114</td>\n",
              "      <td>3214.857818</td>\n",
              "      <td>4551.142150</td>\n",
              "      <td>6205.883850</td>\n",
              "      <td>7954.111645</td>\n",
              "      <td>8647.142313</td>\n",
              "      <td>11003.605080</td>\n",
              "      <td>12569.851770</td>\n",
              "    </tr>\n",
              "    <tr>\n",
              "      <th>Burkina Faso</th>\n",
              "      <td>543.255241</td>\n",
              "      <td>617.183465</td>\n",
              "      <td>722.512021</td>\n",
              "      <td>794.826560</td>\n",
              "      <td>854.735976</td>\n",
              "      <td>743.387037</td>\n",
              "      <td>807.198586</td>\n",
              "      <td>912.063142</td>\n",
              "      <td>931.752773</td>\n",
              "      <td>946.294962</td>\n",
              "      <td>1037.645221</td>\n",
              "      <td>1217.032994</td>\n",
              "    </tr>\n",
              "  </tbody>\n",
              "</table>\n",
              "</div>\n",
              "    <div class=\"colab-df-buttons\">\n",
              "\n",
              "  <div class=\"colab-df-container\">\n",
              "    <button class=\"colab-df-convert\" onclick=\"convertToInteractive('df-65eb938f-bafe-45d9-836d-92666106cc60')\"\n",
              "            title=\"Convert this dataframe to an interactive table.\"\n",
              "            style=\"display:none;\">\n",
              "\n",
              "  <svg xmlns=\"http://www.w3.org/2000/svg\" height=\"24px\" viewBox=\"0 -960 960 960\">\n",
              "    <path d=\"M120-120v-720h720v720H120Zm60-500h600v-160H180v160Zm220 220h160v-160H400v160Zm0 220h160v-160H400v160ZM180-400h160v-160H180v160Zm440 0h160v-160H620v160ZM180-180h160v-160H180v160Zm440 0h160v-160H620v160Z\"/>\n",
              "  </svg>\n",
              "    </button>\n",
              "\n",
              "  <style>\n",
              "    .colab-df-container {\n",
              "      display:flex;\n",
              "      gap: 12px;\n",
              "    }\n",
              "\n",
              "    .colab-df-convert {\n",
              "      background-color: #E8F0FE;\n",
              "      border: none;\n",
              "      border-radius: 50%;\n",
              "      cursor: pointer;\n",
              "      display: none;\n",
              "      fill: #1967D2;\n",
              "      height: 32px;\n",
              "      padding: 0 0 0 0;\n",
              "      width: 32px;\n",
              "    }\n",
              "\n",
              "    .colab-df-convert:hover {\n",
              "      background-color: #E2EBFA;\n",
              "      box-shadow: 0px 1px 2px rgba(60, 64, 67, 0.3), 0px 1px 3px 1px rgba(60, 64, 67, 0.15);\n",
              "      fill: #174EA6;\n",
              "    }\n",
              "\n",
              "    .colab-df-buttons div {\n",
              "      margin-bottom: 4px;\n",
              "    }\n",
              "\n",
              "    [theme=dark] .colab-df-convert {\n",
              "      background-color: #3B4455;\n",
              "      fill: #D2E3FC;\n",
              "    }\n",
              "\n",
              "    [theme=dark] .colab-df-convert:hover {\n",
              "      background-color: #434B5C;\n",
              "      box-shadow: 0px 1px 3px 1px rgba(0, 0, 0, 0.15);\n",
              "      filter: drop-shadow(0px 1px 2px rgba(0, 0, 0, 0.3));\n",
              "      fill: #FFFFFF;\n",
              "    }\n",
              "  </style>\n",
              "\n",
              "    <script>\n",
              "      const buttonEl =\n",
              "        document.querySelector('#df-65eb938f-bafe-45d9-836d-92666106cc60 button.colab-df-convert');\n",
              "      buttonEl.style.display =\n",
              "        google.colab.kernel.accessAllowed ? 'block' : 'none';\n",
              "\n",
              "      async function convertToInteractive(key) {\n",
              "        const element = document.querySelector('#df-65eb938f-bafe-45d9-836d-92666106cc60');\n",
              "        const dataTable =\n",
              "          await google.colab.kernel.invokeFunction('convertToInteractive',\n",
              "                                                    [key], {});\n",
              "        if (!dataTable) return;\n",
              "\n",
              "        const docLinkHtml = 'Like what you see? Visit the ' +\n",
              "          '<a target=\"_blank\" href=https://colab.research.google.com/notebooks/data_table.ipynb>data table notebook</a>'\n",
              "          + ' to learn more about interactive tables.';\n",
              "        element.innerHTML = '';\n",
              "        dataTable['output_type'] = 'display_data';\n",
              "        await google.colab.output.renderOutput(dataTable, element);\n",
              "        const docLink = document.createElement('div');\n",
              "        docLink.innerHTML = docLinkHtml;\n",
              "        element.appendChild(docLink);\n",
              "      }\n",
              "    </script>\n",
              "  </div>\n",
              "\n",
              "\n",
              "    <div id=\"df-b0a8b746-6d6d-4617-a055-f5f7c6313c85\">\n",
              "      <button class=\"colab-df-quickchart\" onclick=\"quickchart('df-b0a8b746-6d6d-4617-a055-f5f7c6313c85')\"\n",
              "                title=\"Suggest charts\"\n",
              "                style=\"display:none;\">\n",
              "\n",
              "<svg xmlns=\"http://www.w3.org/2000/svg\" height=\"24px\"viewBox=\"0 0 24 24\"\n",
              "     width=\"24px\">\n",
              "    <g>\n",
              "        <path d=\"M19 3H5c-1.1 0-2 .9-2 2v14c0 1.1.9 2 2 2h14c1.1 0 2-.9 2-2V5c0-1.1-.9-2-2-2zM9 17H7v-7h2v7zm4 0h-2V7h2v10zm4 0h-2v-4h2v4z\"/>\n",
              "    </g>\n",
              "</svg>\n",
              "      </button>\n",
              "\n",
              "<style>\n",
              "  .colab-df-quickchart {\n",
              "      --bg-color: #E8F0FE;\n",
              "      --fill-color: #1967D2;\n",
              "      --hover-bg-color: #E2EBFA;\n",
              "      --hover-fill-color: #174EA6;\n",
              "      --disabled-fill-color: #AAA;\n",
              "      --disabled-bg-color: #DDD;\n",
              "  }\n",
              "\n",
              "  [theme=dark] .colab-df-quickchart {\n",
              "      --bg-color: #3B4455;\n",
              "      --fill-color: #D2E3FC;\n",
              "      --hover-bg-color: #434B5C;\n",
              "      --hover-fill-color: #FFFFFF;\n",
              "      --disabled-bg-color: #3B4455;\n",
              "      --disabled-fill-color: #666;\n",
              "  }\n",
              "\n",
              "  .colab-df-quickchart {\n",
              "    background-color: var(--bg-color);\n",
              "    border: none;\n",
              "    border-radius: 50%;\n",
              "    cursor: pointer;\n",
              "    display: none;\n",
              "    fill: var(--fill-color);\n",
              "    height: 32px;\n",
              "    padding: 0;\n",
              "    width: 32px;\n",
              "  }\n",
              "\n",
              "  .colab-df-quickchart:hover {\n",
              "    background-color: var(--hover-bg-color);\n",
              "    box-shadow: 0 1px 2px rgba(60, 64, 67, 0.3), 0 1px 3px 1px rgba(60, 64, 67, 0.15);\n",
              "    fill: var(--button-hover-fill-color);\n",
              "  }\n",
              "\n",
              "  .colab-df-quickchart-complete:disabled,\n",
              "  .colab-df-quickchart-complete:disabled:hover {\n",
              "    background-color: var(--disabled-bg-color);\n",
              "    fill: var(--disabled-fill-color);\n",
              "    box-shadow: none;\n",
              "  }\n",
              "\n",
              "  .colab-df-spinner {\n",
              "    border: 2px solid var(--fill-color);\n",
              "    border-color: transparent;\n",
              "    border-bottom-color: var(--fill-color);\n",
              "    animation:\n",
              "      spin 1s steps(1) infinite;\n",
              "  }\n",
              "\n",
              "  @keyframes spin {\n",
              "    0% {\n",
              "      border-color: transparent;\n",
              "      border-bottom-color: var(--fill-color);\n",
              "      border-left-color: var(--fill-color);\n",
              "    }\n",
              "    20% {\n",
              "      border-color: transparent;\n",
              "      border-left-color: var(--fill-color);\n",
              "      border-top-color: var(--fill-color);\n",
              "    }\n",
              "    30% {\n",
              "      border-color: transparent;\n",
              "      border-left-color: var(--fill-color);\n",
              "      border-top-color: var(--fill-color);\n",
              "      border-right-color: var(--fill-color);\n",
              "    }\n",
              "    40% {\n",
              "      border-color: transparent;\n",
              "      border-right-color: var(--fill-color);\n",
              "      border-top-color: var(--fill-color);\n",
              "    }\n",
              "    60% {\n",
              "      border-color: transparent;\n",
              "      border-right-color: var(--fill-color);\n",
              "    }\n",
              "    80% {\n",
              "      border-color: transparent;\n",
              "      border-right-color: var(--fill-color);\n",
              "      border-bottom-color: var(--fill-color);\n",
              "    }\n",
              "    90% {\n",
              "      border-color: transparent;\n",
              "      border-bottom-color: var(--fill-color);\n",
              "    }\n",
              "  }\n",
              "</style>\n",
              "\n",
              "      <script>\n",
              "        async function quickchart(key) {\n",
              "          const quickchartButtonEl =\n",
              "            document.querySelector('#' + key + ' button');\n",
              "          quickchartButtonEl.disabled = true;  // To prevent multiple clicks.\n",
              "          quickchartButtonEl.classList.add('colab-df-spinner');\n",
              "          try {\n",
              "            const charts = await google.colab.kernel.invokeFunction(\n",
              "                'suggestCharts', [key], {});\n",
              "          } catch (error) {\n",
              "            console.error('Error during call to suggestCharts:', error);\n",
              "          }\n",
              "          quickchartButtonEl.classList.remove('colab-df-spinner');\n",
              "          quickchartButtonEl.classList.add('colab-df-quickchart-complete');\n",
              "        }\n",
              "        (() => {\n",
              "          let quickchartButtonEl =\n",
              "            document.querySelector('#df-b0a8b746-6d6d-4617-a055-f5f7c6313c85 button');\n",
              "          quickchartButtonEl.style.display =\n",
              "            google.colab.kernel.accessAllowed ? 'block' : 'none';\n",
              "        })();\n",
              "      </script>\n",
              "    </div>\n",
              "\n",
              "    </div>\n",
              "  </div>\n"
            ],
            "application/vnd.google.colaboratory.intrinsic+json": {
              "type": "dataframe",
              "variable_name": "df",
              "summary": "{\n  \"name\": \"df\",\n  \"rows\": 52,\n  \"fields\": [\n    {\n      \"column\": \"country\",\n      \"properties\": {\n        \"dtype\": \"string\",\n        \"num_unique_values\": 52,\n        \"samples\": [\n          \"Gambia\",\n          \"Sierra Leone\",\n          \"Togo\"\n        ],\n        \"semantic_type\": \"\",\n        \"description\": \"\"\n      }\n    },\n    {\n      \"column\": \"1952\",\n      \"properties\": {\n        \"dtype\": \"number\",\n        \"std\": 982.9521155384166,\n        \"min\": 298.8462121,\n        \"max\": 4725.295531,\n        \"num_unique_values\": 52,\n        \"samples\": [\n          485.2306591,\n          879.7877358,\n          859.8086567\n        ],\n        \"semantic_type\": \"\",\n        \"description\": \"\"\n      }\n    },\n    {\n      \"column\": \"1957\",\n      \"properties\": {\n        \"dtype\": \"number\",\n        \"std\": 1134.508918377396,\n        \"min\": 335.9971151,\n        \"max\": 5487.104219,\n        \"num_unique_values\": 52,\n        \"samples\": [\n          520.9267111,\n          1004.484437,\n          925.9083202\n        ],\n        \"semantic_type\": \"\",\n        \"description\": \"\"\n      }\n    },\n    {\n      \"column\": \"1962\",\n      \"properties\": {\n        \"dtype\": \"number\",\n        \"std\": 1461.8391887556486,\n        \"min\": 355.2032273,\n        \"max\": 6757.030816,\n        \"num_unique_values\": 52,\n        \"samples\": [\n          599.650276,\n          1116.639877,\n          1067.53481\n        ],\n        \"semantic_type\": \"\",\n        \"description\": \"\"\n      }\n    },\n    {\n      \"column\": \"1967\",\n      \"properties\": {\n        \"dtype\": \"number\",\n        \"std\": 2847.7176034350878,\n        \"min\": 412.9775136,\n        \"max\": 18772.75169,\n        \"num_unique_values\": 52,\n        \"samples\": [\n          734.7829124,\n          1206.043465,\n          1477.59676\n        ],\n        \"semantic_type\": \"\",\n        \"description\": \"\"\n      }\n    },\n    {\n      \"column\": \"1972\",\n      \"properties\": {\n        \"dtype\": \"number\",\n        \"std\": 3286.853884009098,\n        \"min\": 464.0995039,\n        \"max\": 21011.49721,\n        \"num_unique_values\": 52,\n        \"samples\": [\n          756.0868363,\n          1353.759762,\n          1649.660188\n        ],\n        \"semantic_type\": \"\",\n        \"description\": \"\"\n      }\n    },\n    {\n      \"column\": \"1977\",\n      \"properties\": {\n        \"dtype\": \"number\",\n        \"std\": 4142.398706725294,\n        \"min\": 502.3197334,\n        \"max\": 21951.21176,\n        \"num_unique_values\": 52,\n        \"samples\": [\n          884.7552507,\n          1348.285159,\n          1532.776998\n        ],\n        \"semantic_type\": \"\",\n        \"description\": \"\"\n      }\n    },\n    {\n      \"column\": \"1982\",\n      \"properties\": {\n        \"dtype\": \"number\",\n        \"std\": 3242.632752739704,\n        \"min\": 462.2114149,\n        \"max\": 17364.27538,\n        \"num_unique_values\": 52,\n        \"samples\": [\n          835.8096108,\n          1465.010784,\n          1344.577953\n        ],\n        \"semantic_type\": \"\",\n        \"description\": \"\"\n      }\n    },\n    {\n      \"column\": \"1987\",\n      \"properties\": {\n        \"dtype\": \"number\",\n        \"std\": 2566.5319467958197,\n        \"min\": 389.8761846,\n        \"max\": 11864.40844,\n        \"num_unique_values\": 52,\n        \"samples\": [\n          611.6588611,\n          1294.447788,\n          1202.201361\n        ],\n        \"semantic_type\": \"\",\n        \"description\": \"\"\n      }\n    },\n    {\n      \"column\": \"1992\",\n      \"properties\": {\n        \"dtype\": \"number\",\n        \"std\": 2644.0756023219724,\n        \"min\": 410.8968239,\n        \"max\": 13522.15752,\n        \"num_unique_values\": 52,\n        \"samples\": [\n          665.6244126,\n          1068.696278,\n          1034.298904\n        ],\n        \"semantic_type\": \"\",\n        \"description\": \"\"\n      }\n    },\n    {\n      \"column\": \"1997\",\n      \"properties\": {\n        \"dtype\": \"number\",\n        \"std\": 2820.7281171070044,\n        \"min\": 312.188423,\n        \"max\": 14722.84188,\n        \"num_unique_values\": 52,\n        \"samples\": [\n          653.7301704,\n          574.6481576,\n          982.2869243\n        ],\n        \"semantic_type\": \"\",\n        \"description\": \"\"\n      }\n    },\n    {\n      \"column\": \"2002\",\n      \"properties\": {\n        \"dtype\": \"number\",\n        \"std\": 2972.6513076700667,\n        \"min\": 241.1658765,\n        \"max\": 12521.71392,\n        \"num_unique_values\": 52,\n        \"samples\": [\n          660.5855997,\n          699.489713,\n          886.2205765\n        ],\n        \"semantic_type\": \"\",\n        \"description\": \"\"\n      }\n    },\n    {\n      \"column\": \"2007\",\n      \"properties\": {\n        \"dtype\": \"number\",\n        \"std\": 3618.1634914403535,\n        \"min\": 277.5518587,\n        \"max\": 13206.48452,\n        \"num_unique_values\": 52,\n        \"samples\": [\n          752.7497265,\n          862.5407561,\n          882.9699438\n        ],\n        \"semantic_type\": \"\",\n        \"description\": \"\"\n      }\n    }\n  ]\n}"
            }
          },
          "metadata": {},
          "execution_count": 8
        }
      ]
    },
    {
      "cell_type": "code",
      "source": [
        "print(column_min(\"1952\"))"
      ],
      "metadata": {
        "id": "RY4nM3j84_TC",
        "colab": {
          "base_uri": "https://localhost:8080/"
        },
        "outputId": "ba5b377b-71fd-4bcc-f4d6-16c9e8a894da"
      },
      "id": "RY4nM3j84_TC",
      "execution_count": null,
      "outputs": [
        {
          "output_type": "stream",
          "name": "stdout",
          "text": [
            "298.8462121\n"
          ]
        }
      ]
    },
    {
      "cell_type": "code",
      "source": [
        "#More complex function with a dataframe\n",
        "\n",
        "def yearly_average(data):\n",
        "    x = data.index.values\n",
        "    for y in x:\n",
        "        return(data.loc[x].mean())\n"
      ],
      "metadata": {
        "id": "0-yqOeT97dnf"
      },
      "id": "0-yqOeT97dnf",
      "execution_count": null,
      "outputs": []
    },
    {
      "cell_type": "code",
      "source": [
        "print(yearly_average(df))"
      ],
      "metadata": {
        "id": "FSDxbD777f_s",
        "colab": {
          "base_uri": "https://localhost:8080/"
        },
        "outputId": "fc8fcd6f-c028-4b87-e8f5-764d8a334094"
      },
      "id": "FSDxbD777f_s",
      "execution_count": null,
      "outputs": [
        {
          "output_type": "stream",
          "name": "stdout",
          "text": [
            "1952    1252.572466\n",
            "1957    1385.236062\n",
            "1962    1598.078825\n",
            "1967    2050.363801\n",
            "1972    2339.615674\n",
            "1977    2585.938508\n",
            "1982    2481.592960\n",
            "1987    2282.668991\n",
            "1992    2281.810333\n",
            "1997    2378.759555\n",
            "2002    2599.385159\n",
            "2007    3089.032605\n",
            "dtype: float64\n"
          ]
        }
      ]
    },
    {
      "cell_type": "code",
      "source": [
        "def min_gdp(data):\n",
        "    df = pd.read_csv(data, index_col=0)\n",
        "    countries = df.index.values\n",
        "    for country in countries:\n",
        "        print(country, df.loc[country].min())\n",
        "    return"
      ],
      "metadata": {
        "id": "HU9XkiUt7m8m"
      },
      "id": "HU9XkiUt7m8m",
      "execution_count": null,
      "outputs": []
    },
    {
      "cell_type": "code",
      "source": [
        "(min_gdp(\"gdp_africa.csv\"))"
      ],
      "metadata": {
        "id": "8HtDgQCQ7t-F",
        "colab": {
          "base_uri": "https://localhost:8080/"
        },
        "outputId": "ed676d99-0f67-4998-a178-b3b007d29209"
      },
      "id": "8HtDgQCQ7t-F",
      "execution_count": null,
      "outputs": [
        {
          "output_type": "stream",
          "name": "stdout",
          "text": [
            "Algeria 2449.008185\n",
            "Angola 2277.140884\n",
            "Benin 949.4990641\n",
            "Botswana 851.2411407\n",
            "Burkina Faso 543.2552413\n",
            "Burundi 339.2964587\n",
            "Cameroon 1172.667655\n",
            "Central African Republic 706.016537\n",
            "Chad 797.9081006\n",
            "Comoros 986.1478792\n",
            "Congo Dem. Rep. 241.1658765\n",
            "Congo Rep. 2125.621418\n",
            "Cote d'Ivoire 1388.594732\n",
            "Djibouti 1895.016984\n",
            "Egypt 1418.822445\n",
            "Equatorial Guinea 375.6431231\n",
            "Eritrea 328.9405571\n",
            "Ethiopia 362.1462796\n",
            "Gabon 4293.476475\n",
            "Gambia 485.2306591\n",
            "Ghana 847.0061135\n",
            "Guinea 510.1964923\n",
            "Guinea-Bissau 299.850319\n",
            "Kenya 853.540919\n",
            "Lesotho 298.8462121\n",
            "Liberia 414.5073415\n",
            "Libya 2387.54806\n",
            "Madagascar 894.6370822\n",
            "Malawi 369.1650802\n",
            "Mali 452.3369807\n",
            "Mauritania 743.1159097\n",
            "Mauritius 1967.955707\n",
            "Morocco 1566.353493\n",
            "Mozambique 389.8761846\n",
            "Namibia 2423.780443\n",
            "Niger 580.3052092\n",
            "Nigeria 1014.514104\n",
            "Reunion 2718.885295\n",
            "Rwanda 493.3238752\n",
            "Sao Tome and Principe 860.7369026\n",
            "Senegal 1367.899369\n",
            "Sierra Leone 574.6481576\n",
            "Somalia 882.0818218\n",
            "South Africa 4725.295531\n",
            "Sudan 1492.197043\n",
            "Swaziland 1148.376626\n",
            "Tanzania 698.5356073\n",
            "Togo 859.8086567\n",
            "Tunisia 1395.232468\n",
            "Uganda 617.7244065\n",
            "Zambia 1071.353818\n",
            "Zimbabwe 406.8841148\n"
          ]
        }
      ]
    }
  ],
  "metadata": {
    "kernelspec": {
      "display_name": "Python 3 (ipykernel)",
      "language": "python",
      "name": "python3"
    },
    "language_info": {
      "codemirror_mode": {
        "name": "ipython",
        "version": 3
      },
      "file_extension": ".py",
      "mimetype": "text/x-python",
      "name": "python",
      "nbconvert_exporter": "python",
      "pygments_lexer": "ipython3",
      "version": "3.9.7"
    },
    "colab": {
      "provenance": []
    }
  },
  "nbformat": 4,
  "nbformat_minor": 5
}